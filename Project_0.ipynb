{
 "cells": [
  {
   "cell_type": "code",
   "execution_count": 2,
   "metadata": {},
   "outputs": [
    {
     "name": "stdout",
     "output_type": "stream",
     "text": [
      "Загадано число от 1 до 100\n",
      "Ваш алгоритм угадывает число в среднем за 4 попыток\n"
     ]
    },
    {
     "data": {
      "text/plain": [
       "4"
      ]
     },
     "execution_count": 2,
     "metadata": {},
     "output_type": "execute_result"
    }
   ],
   "source": [
    "import numpy as np\n",
    "count = 0 # счетчик попыток\n",
    "number = np.random.randint(1,101) # загадали число\n",
    "print (\"Загадано число от 1 до 100\")\n",
    "def game_core(number):\n",
    "    strt = 1\n",
    "    finish = 101\n",
    "    count = 0\n",
    "    while True:\n",
    "        current = (strt+finish)//2\n",
    "        if current == number:\n",
    "            break\n",
    "        elif current < number:\n",
    "            strt = current + 1\n",
    "            count += 1\n",
    "        else:\n",
    "            finish = current - 1\n",
    "            count += 1\n",
    "    return count\n",
    "def score_game(game_core):\n",
    "    '''Запускаем игру 1000 раз, чтобы узнать, как быстро игра угадывает число'''\n",
    "    count_ls = []\n",
    "    np.random.seed(1) # фиксируем RANDOM SEED, чтобы ваш эксперимент был воспроизводим!\n",
    "    random_array = np.random.randint(1,101, size=(1000))\n",
    "    for number in random_array:\n",
    "        count_ls.append(game_core(number))\n",
    "    score = int(np.mean(count_ls))\n",
    "    print(\"Ваш алгоритм угадывает число в среднем за {} попыток\".format(score))\n",
    "    return(score)\n",
    "\n",
    "score_game(game_core)"
   ]
  }
 ],
 "metadata": {
  "kernelspec": {
   "display_name": "Python 3",
   "language": "python",
   "name": "python3"
  },
  "language_info": {
   "codemirror_mode": {
    "name": "ipython",
    "version": 3
   },
   "file_extension": ".py",
   "mimetype": "text/x-python",
   "name": "python",
   "nbconvert_exporter": "python",
   "pygments_lexer": "ipython3",
   "version": "3.8.3"
  }
 },
 "nbformat": 4,
 "nbformat_minor": 4
}
